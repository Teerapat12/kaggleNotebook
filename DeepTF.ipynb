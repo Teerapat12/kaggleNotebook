{
 "cells": [
  {
   "cell_type": "markdown",
   "metadata": {},
   "source": [
    "# Deep Learning on Titanic dataset (kaggle) using TensorFlow\n",
    "---------------------------\n",
    "\n",
    "https://www.kaggle.com/c/titanic"
   ]
  },
  {
   "cell_type": "markdown",
   "metadata": {},
   "source": [
    "### Let's import packages and dataset"
   ]
  },
  {
   "cell_type": "code",
   "execution_count": 1,
   "metadata": {
    "collapsed": true
   },
   "outputs": [],
   "source": [
    "import tensorflow as tf\n",
    "import pandas as pd\n",
    "import numpy as np\n",
    "import random\n",
    "import matplotlib.pyplot as plt\n",
    "from collections import Counter\n",
    "from IPython.display import clear_output"
   ]
  },
  {
   "cell_type": "code",
   "execution_count": 2,
   "metadata": {
    "collapsed": false
   },
   "outputs": [
    {
     "data": {
      "text/html": [
       "<div>\n",
       "<table border=\"1\" class=\"dataframe\">\n",
       "  <thead>\n",
       "    <tr style=\"text-align: right;\">\n",
       "      <th></th>\n",
       "      <th>PassengerId</th>\n",
       "      <th>Survived</th>\n",
       "      <th>Pclass</th>\n",
       "      <th>Name</th>\n",
       "      <th>Sex</th>\n",
       "      <th>Age</th>\n",
       "      <th>SibSp</th>\n",
       "      <th>Parch</th>\n",
       "      <th>Ticket</th>\n",
       "      <th>Fare</th>\n",
       "      <th>Cabin</th>\n",
       "      <th>Embarked</th>\n",
       "    </tr>\n",
       "  </thead>\n",
       "  <tbody>\n",
       "    <tr>\n",
       "      <th>0</th>\n",
       "      <td>1</td>\n",
       "      <td>0</td>\n",
       "      <td>3</td>\n",
       "      <td>Braund, Mr. Owen Harris</td>\n",
       "      <td>male</td>\n",
       "      <td>22.0</td>\n",
       "      <td>1</td>\n",
       "      <td>0</td>\n",
       "      <td>A/5 21171</td>\n",
       "      <td>7.2500</td>\n",
       "      <td>NaN</td>\n",
       "      <td>S</td>\n",
       "    </tr>\n",
       "    <tr>\n",
       "      <th>1</th>\n",
       "      <td>2</td>\n",
       "      <td>1</td>\n",
       "      <td>1</td>\n",
       "      <td>Cumings, Mrs. John Bradley (Florence Briggs Th...</td>\n",
       "      <td>female</td>\n",
       "      <td>38.0</td>\n",
       "      <td>1</td>\n",
       "      <td>0</td>\n",
       "      <td>PC 17599</td>\n",
       "      <td>71.2833</td>\n",
       "      <td>C85</td>\n",
       "      <td>C</td>\n",
       "    </tr>\n",
       "    <tr>\n",
       "      <th>2</th>\n",
       "      <td>3</td>\n",
       "      <td>1</td>\n",
       "      <td>3</td>\n",
       "      <td>Heikkinen, Miss. Laina</td>\n",
       "      <td>female</td>\n",
       "      <td>26.0</td>\n",
       "      <td>0</td>\n",
       "      <td>0</td>\n",
       "      <td>STON/O2. 3101282</td>\n",
       "      <td>7.9250</td>\n",
       "      <td>NaN</td>\n",
       "      <td>S</td>\n",
       "    </tr>\n",
       "    <tr>\n",
       "      <th>3</th>\n",
       "      <td>4</td>\n",
       "      <td>1</td>\n",
       "      <td>1</td>\n",
       "      <td>Futrelle, Mrs. Jacques Heath (Lily May Peel)</td>\n",
       "      <td>female</td>\n",
       "      <td>35.0</td>\n",
       "      <td>1</td>\n",
       "      <td>0</td>\n",
       "      <td>113803</td>\n",
       "      <td>53.1000</td>\n",
       "      <td>C123</td>\n",
       "      <td>S</td>\n",
       "    </tr>\n",
       "    <tr>\n",
       "      <th>4</th>\n",
       "      <td>5</td>\n",
       "      <td>0</td>\n",
       "      <td>3</td>\n",
       "      <td>Allen, Mr. William Henry</td>\n",
       "      <td>male</td>\n",
       "      <td>35.0</td>\n",
       "      <td>0</td>\n",
       "      <td>0</td>\n",
       "      <td>373450</td>\n",
       "      <td>8.0500</td>\n",
       "      <td>NaN</td>\n",
       "      <td>S</td>\n",
       "    </tr>\n",
       "  </tbody>\n",
       "</table>\n",
       "</div>"
      ],
      "text/plain": [
       "   PassengerId  Survived  Pclass  \\\n",
       "0            1         0       3   \n",
       "1            2         1       1   \n",
       "2            3         1       3   \n",
       "3            4         1       1   \n",
       "4            5         0       3   \n",
       "\n",
       "                                                Name     Sex   Age  SibSp  \\\n",
       "0                            Braund, Mr. Owen Harris    male  22.0      1   \n",
       "1  Cumings, Mrs. John Bradley (Florence Briggs Th...  female  38.0      1   \n",
       "2                             Heikkinen, Miss. Laina  female  26.0      0   \n",
       "3       Futrelle, Mrs. Jacques Heath (Lily May Peel)  female  35.0      1   \n",
       "4                           Allen, Mr. William Henry    male  35.0      0   \n",
       "\n",
       "   Parch            Ticket     Fare Cabin Embarked  \n",
       "0      0         A/5 21171   7.2500   NaN        S  \n",
       "1      0          PC 17599  71.2833   C85        C  \n",
       "2      0  STON/O2. 3101282   7.9250   NaN        S  \n",
       "3      0            113803  53.1000  C123        S  \n",
       "4      0            373450   8.0500   NaN        S  "
      ]
     },
     "execution_count": 2,
     "metadata": {},
     "output_type": "execute_result"
    }
   ],
   "source": [
    "df = pd.read_csv('train.csv')\n",
    "test_df = pd.read_csv('test.csv')\n",
    "df.head()"
   ]
  },
  {
   "cell_type": "code",
   "execution_count": 3,
   "metadata": {
    "collapsed": true
   },
   "outputs": [],
   "source": [
    "df['name_length'] = df['Name'].apply(len)\n",
    "df['ticket_length'] = df['Ticket'].apply(len)\n",
    "\n",
    "test_df['name_length'] = test_df['Name'].apply(len)\n",
    "test_df['ticket_length'] = test_df['Ticket'].apply(len)"
   ]
  },
  {
   "cell_type": "code",
   "execution_count": 4,
   "metadata": {
    "collapsed": false
   },
   "outputs": [],
   "source": [
    "df = df[['Survived','Pclass','Sex','Age','SibSp','Parch','Fare','Embarked','name_length','ticket_length']]\n",
    "test_df = test_df[['Pclass','Sex','Age','SibSp','Parch','Fare','Embarked','name_length','ticket_length']]"
   ]
  },
  {
   "cell_type": "markdown",
   "metadata": {},
   "source": [
    "## Clean Data"
   ]
  },
  {
   "cell_type": "code",
   "execution_count": 5,
   "metadata": {
    "collapsed": false
   },
   "outputs": [
    {
     "data": {
      "text/plain": [
       "Pclass           0\n",
       "Sex              0\n",
       "Age              0\n",
       "SibSp            0\n",
       "Parch            0\n",
       "Fare             0\n",
       "Embarked         0\n",
       "name_length      0\n",
       "ticket_length    0\n",
       "dtype: int64"
      ]
     },
     "execution_count": 5,
     "metadata": {},
     "output_type": "execute_result"
    }
   ],
   "source": [
    "df = df.fillna(df.mean())\n",
    "df = df[df['Embarked'].notnull()]\n",
    "df.isnull().sum() #Because only 2 people don't hve embarked. We will ignore them\n",
    "\n",
    "test_df = test_df.fillna(df.mean())\n",
    "test_df['Embarked'].fillna(\"S\")\n",
    "test_df.isnull().sum()"
   ]
  },
  {
   "cell_type": "markdown",
   "metadata": {},
   "source": [
    "## Convert categorical feature to one hot."
   ]
  },
  {
   "cell_type": "code",
   "execution_count": 6,
   "metadata": {
    "collapsed": false
   },
   "outputs": [],
   "source": [
    "def Sex2Num(sex):\n",
    "    if(sex=='male'):return 1\n",
    "    elif(sex=='female'):return 2\n",
    "    else: return 0\n",
    "df['Sex'] = df['Sex'].apply(Sex2Num)\n",
    "test_df['Sex'] = test_df['Sex'].apply(Sex2Num)"
   ]
  },
  {
   "cell_type": "code",
   "execution_count": 7,
   "metadata": {
    "collapsed": false
   },
   "outputs": [
    {
     "name": "stdout",
     "output_type": "stream",
     "text": [
      "Index(['Survived', 'Pclass', 'Sex', 'Age', 'SibSp', 'Parch', 'Fare',\n",
      "       'Embarked', 'name_length', 'ticket_length', 'C', 'Q', 'S', 'class_1',\n",
      "       'class_2', 'class_3'],\n",
      "      dtype='object')\n",
      "Index(['Pclass', 'Sex', 'Age', 'SibSp', 'Parch', 'Fare', 'Embarked',\n",
      "       'name_length', 'ticket_length', 'C', 'Q', 'S', 'class_1', 'class_2',\n",
      "       'class_3'],\n",
      "      dtype='object')\n"
     ]
    },
    {
     "data": {
      "text/html": [
       "<div>\n",
       "<table border=\"1\" class=\"dataframe\">\n",
       "  <thead>\n",
       "    <tr style=\"text-align: right;\">\n",
       "      <th></th>\n",
       "      <th>Sex</th>\n",
       "      <th>Age</th>\n",
       "      <th>SibSp</th>\n",
       "      <th>Parch</th>\n",
       "      <th>Fare</th>\n",
       "      <th>name_length</th>\n",
       "      <th>ticket_length</th>\n",
       "      <th>S</th>\n",
       "      <th>Q</th>\n",
       "      <th>class_2</th>\n",
       "      <th>class_3</th>\n",
       "    </tr>\n",
       "  </thead>\n",
       "  <tbody>\n",
       "    <tr>\n",
       "      <th>0</th>\n",
       "      <td>1</td>\n",
       "      <td>34.5</td>\n",
       "      <td>0</td>\n",
       "      <td>0</td>\n",
       "      <td>7.8292</td>\n",
       "      <td>16</td>\n",
       "      <td>6</td>\n",
       "      <td>0.0</td>\n",
       "      <td>1.0</td>\n",
       "      <td>0.0</td>\n",
       "      <td>1.0</td>\n",
       "    </tr>\n",
       "    <tr>\n",
       "      <th>1</th>\n",
       "      <td>2</td>\n",
       "      <td>47.0</td>\n",
       "      <td>1</td>\n",
       "      <td>0</td>\n",
       "      <td>7.0000</td>\n",
       "      <td>32</td>\n",
       "      <td>6</td>\n",
       "      <td>1.0</td>\n",
       "      <td>0.0</td>\n",
       "      <td>0.0</td>\n",
       "      <td>1.0</td>\n",
       "    </tr>\n",
       "    <tr>\n",
       "      <th>2</th>\n",
       "      <td>1</td>\n",
       "      <td>62.0</td>\n",
       "      <td>0</td>\n",
       "      <td>0</td>\n",
       "      <td>9.6875</td>\n",
       "      <td>25</td>\n",
       "      <td>6</td>\n",
       "      <td>0.0</td>\n",
       "      <td>1.0</td>\n",
       "      <td>1.0</td>\n",
       "      <td>0.0</td>\n",
       "    </tr>\n",
       "    <tr>\n",
       "      <th>3</th>\n",
       "      <td>1</td>\n",
       "      <td>27.0</td>\n",
       "      <td>0</td>\n",
       "      <td>0</td>\n",
       "      <td>8.6625</td>\n",
       "      <td>16</td>\n",
       "      <td>6</td>\n",
       "      <td>1.0</td>\n",
       "      <td>0.0</td>\n",
       "      <td>0.0</td>\n",
       "      <td>1.0</td>\n",
       "    </tr>\n",
       "    <tr>\n",
       "      <th>4</th>\n",
       "      <td>2</td>\n",
       "      <td>22.0</td>\n",
       "      <td>1</td>\n",
       "      <td>1</td>\n",
       "      <td>12.2875</td>\n",
       "      <td>44</td>\n",
       "      <td>7</td>\n",
       "      <td>1.0</td>\n",
       "      <td>0.0</td>\n",
       "      <td>0.0</td>\n",
       "      <td>1.0</td>\n",
       "    </tr>\n",
       "  </tbody>\n",
       "</table>\n",
       "</div>"
      ],
      "text/plain": [
       "   Sex   Age  SibSp  Parch     Fare  name_length  ticket_length    S    Q  \\\n",
       "0    1  34.5      0      0   7.8292           16              6  0.0  1.0   \n",
       "1    2  47.0      1      0   7.0000           32              6  1.0  0.0   \n",
       "2    1  62.0      0      0   9.6875           25              6  0.0  1.0   \n",
       "3    1  27.0      0      0   8.6625           16              6  1.0  0.0   \n",
       "4    2  22.0      1      1  12.2875           44              7  1.0  0.0   \n",
       "\n",
       "   class_2  class_3  \n",
       "0      0.0      1.0  \n",
       "1      0.0      1.0  \n",
       "2      1.0      0.0  \n",
       "3      0.0      1.0  \n",
       "4      0.0      1.0  "
      ]
     },
     "execution_count": 7,
     "metadata": {},
     "output_type": "execute_result"
    }
   ],
   "source": [
    "embarked = pd.get_dummies(df['Embarked'])\n",
    "Pclasses = pd.get_dummies(df['Pclass'],prefix='class')\n",
    "newDf = pd.concat([df,embarked,Pclasses],axis=1)\n",
    "print(newDf.columns)\n",
    "newDf = newDf[['Survived','Sex','Age','SibSp','Parch','Fare','name_length','ticket_length','S','Q','class_2', 'class_3']]\n",
    "newDf.head()\n",
    "\n",
    "embarked = pd.get_dummies(test_df['Embarked'])\n",
    "Pclasses = pd.get_dummies(test_df['Pclass'],prefix='class')\n",
    "test_df = pd.concat([test_df,embarked,Pclasses],axis=1)\n",
    "print(test_df.columns)\n",
    "test_df = test_df[['Sex','Age','SibSp','Parch','Fare','name_length','ticket_length','S','Q','class_2', 'class_3']]\n",
    "test_df.head()"
   ]
  },
  {
   "cell_type": "markdown",
   "metadata": {},
   "source": [
    "## Set X_train, X_val,X_test"
   ]
  },
  {
   "cell_type": "code",
   "execution_count": 8,
   "metadata": {
    "collapsed": false
   },
   "outputs": [
    {
     "name": "stdout",
     "output_type": "stream",
     "text": [
      "(800, 11)\n",
      "(89, 11)\n",
      "(418, 11)\n"
     ]
    },
    {
     "data": {
      "text/html": [
       "<div>\n",
       "<table border=\"1\" class=\"dataframe\">\n",
       "  <thead>\n",
       "    <tr style=\"text-align: right;\">\n",
       "      <th></th>\n",
       "      <th>Sex</th>\n",
       "      <th>Age</th>\n",
       "      <th>SibSp</th>\n",
       "      <th>Parch</th>\n",
       "      <th>Fare</th>\n",
       "      <th>name_length</th>\n",
       "      <th>ticket_length</th>\n",
       "      <th>S</th>\n",
       "      <th>Q</th>\n",
       "      <th>class_2</th>\n",
       "      <th>class_3</th>\n",
       "    </tr>\n",
       "  </thead>\n",
       "  <tbody>\n",
       "    <tr>\n",
       "      <th>0</th>\n",
       "      <td>1</td>\n",
       "      <td>34.5</td>\n",
       "      <td>0</td>\n",
       "      <td>0</td>\n",
       "      <td>7.8292</td>\n",
       "      <td>16</td>\n",
       "      <td>6</td>\n",
       "      <td>0.0</td>\n",
       "      <td>1.0</td>\n",
       "      <td>0.0</td>\n",
       "      <td>1.0</td>\n",
       "    </tr>\n",
       "    <tr>\n",
       "      <th>1</th>\n",
       "      <td>2</td>\n",
       "      <td>47.0</td>\n",
       "      <td>1</td>\n",
       "      <td>0</td>\n",
       "      <td>7.0000</td>\n",
       "      <td>32</td>\n",
       "      <td>6</td>\n",
       "      <td>1.0</td>\n",
       "      <td>0.0</td>\n",
       "      <td>0.0</td>\n",
       "      <td>1.0</td>\n",
       "    </tr>\n",
       "    <tr>\n",
       "      <th>2</th>\n",
       "      <td>1</td>\n",
       "      <td>62.0</td>\n",
       "      <td>0</td>\n",
       "      <td>0</td>\n",
       "      <td>9.6875</td>\n",
       "      <td>25</td>\n",
       "      <td>6</td>\n",
       "      <td>0.0</td>\n",
       "      <td>1.0</td>\n",
       "      <td>1.0</td>\n",
       "      <td>0.0</td>\n",
       "    </tr>\n",
       "    <tr>\n",
       "      <th>3</th>\n",
       "      <td>1</td>\n",
       "      <td>27.0</td>\n",
       "      <td>0</td>\n",
       "      <td>0</td>\n",
       "      <td>8.6625</td>\n",
       "      <td>16</td>\n",
       "      <td>6</td>\n",
       "      <td>1.0</td>\n",
       "      <td>0.0</td>\n",
       "      <td>0.0</td>\n",
       "      <td>1.0</td>\n",
       "    </tr>\n",
       "    <tr>\n",
       "      <th>4</th>\n",
       "      <td>2</td>\n",
       "      <td>22.0</td>\n",
       "      <td>1</td>\n",
       "      <td>1</td>\n",
       "      <td>12.2875</td>\n",
       "      <td>44</td>\n",
       "      <td>7</td>\n",
       "      <td>1.0</td>\n",
       "      <td>0.0</td>\n",
       "      <td>0.0</td>\n",
       "      <td>1.0</td>\n",
       "    </tr>\n",
       "  </tbody>\n",
       "</table>\n",
       "</div>"
      ],
      "text/plain": [
       "   Sex   Age  SibSp  Parch     Fare  name_length  ticket_length    S    Q  \\\n",
       "0    1  34.5      0      0   7.8292           16              6  0.0  1.0   \n",
       "1    2  47.0      1      0   7.0000           32              6  1.0  0.0   \n",
       "2    1  62.0      0      0   9.6875           25              6  0.0  1.0   \n",
       "3    1  27.0      0      0   8.6625           16              6  1.0  0.0   \n",
       "4    2  22.0      1      1  12.2875           44              7  1.0  0.0   \n",
       "\n",
       "   class_2  class_3  \n",
       "0      0.0      1.0  \n",
       "1      0.0      1.0  \n",
       "2      1.0      0.0  \n",
       "3      0.0      1.0  \n",
       "4      0.0      1.0  "
      ]
     },
     "execution_count": 8,
     "metadata": {},
     "output_type": "execute_result"
    }
   ],
   "source": [
    "X = newDf.iloc[:,1:]\n",
    "Y = newDf.iloc[:,0:1].values\n",
    "\n",
    "from sklearn.model_selection import train_test_split\n",
    "X_train, X_val, y_train, y_val = train_test_split(X, Y, test_size=0.1, random_state=42)\n",
    "\n",
    "\n",
    "X_test = test_df\n",
    "print(X_train.shape)\n",
    "print(X_val.shape)\n",
    "print(X_test.shape)\n",
    "X_test.head()"
   ]
  },
  {
   "cell_type": "code",
   "execution_count": 9,
   "metadata": {
    "collapsed": false
   },
   "outputs": [
    {
     "data": {
      "text/html": [
       "<div>\n",
       "<table border=\"1\" class=\"dataframe\">\n",
       "  <thead>\n",
       "    <tr style=\"text-align: right;\">\n",
       "      <th></th>\n",
       "      <th>Sex</th>\n",
       "      <th>Age</th>\n",
       "      <th>SibSp</th>\n",
       "      <th>Parch</th>\n",
       "      <th>Fare</th>\n",
       "      <th>name_length</th>\n",
       "      <th>ticket_length</th>\n",
       "      <th>S</th>\n",
       "      <th>Q</th>\n",
       "      <th>class_2</th>\n",
       "      <th>class_3</th>\n",
       "    </tr>\n",
       "  </thead>\n",
       "  <tbody>\n",
       "    <tr>\n",
       "      <th>0</th>\n",
       "      <td>1</td>\n",
       "      <td>22.0</td>\n",
       "      <td>1</td>\n",
       "      <td>0</td>\n",
       "      <td>7.2500</td>\n",
       "      <td>23</td>\n",
       "      <td>9</td>\n",
       "      <td>1.0</td>\n",
       "      <td>0.0</td>\n",
       "      <td>0.0</td>\n",
       "      <td>1.0</td>\n",
       "    </tr>\n",
       "    <tr>\n",
       "      <th>1</th>\n",
       "      <td>2</td>\n",
       "      <td>38.0</td>\n",
       "      <td>1</td>\n",
       "      <td>0</td>\n",
       "      <td>71.2833</td>\n",
       "      <td>51</td>\n",
       "      <td>8</td>\n",
       "      <td>0.0</td>\n",
       "      <td>0.0</td>\n",
       "      <td>0.0</td>\n",
       "      <td>0.0</td>\n",
       "    </tr>\n",
       "    <tr>\n",
       "      <th>2</th>\n",
       "      <td>2</td>\n",
       "      <td>26.0</td>\n",
       "      <td>0</td>\n",
       "      <td>0</td>\n",
       "      <td>7.9250</td>\n",
       "      <td>22</td>\n",
       "      <td>16</td>\n",
       "      <td>1.0</td>\n",
       "      <td>0.0</td>\n",
       "      <td>0.0</td>\n",
       "      <td>1.0</td>\n",
       "    </tr>\n",
       "    <tr>\n",
       "      <th>3</th>\n",
       "      <td>2</td>\n",
       "      <td>35.0</td>\n",
       "      <td>1</td>\n",
       "      <td>0</td>\n",
       "      <td>53.1000</td>\n",
       "      <td>44</td>\n",
       "      <td>6</td>\n",
       "      <td>1.0</td>\n",
       "      <td>0.0</td>\n",
       "      <td>0.0</td>\n",
       "      <td>0.0</td>\n",
       "    </tr>\n",
       "    <tr>\n",
       "      <th>4</th>\n",
       "      <td>1</td>\n",
       "      <td>35.0</td>\n",
       "      <td>0</td>\n",
       "      <td>0</td>\n",
       "      <td>8.0500</td>\n",
       "      <td>24</td>\n",
       "      <td>6</td>\n",
       "      <td>1.0</td>\n",
       "      <td>0.0</td>\n",
       "      <td>0.0</td>\n",
       "      <td>1.0</td>\n",
       "    </tr>\n",
       "  </tbody>\n",
       "</table>\n",
       "</div>"
      ],
      "text/plain": [
       "   Sex   Age  SibSp  Parch     Fare  name_length  ticket_length    S    Q  \\\n",
       "0    1  22.0      1      0   7.2500           23              9  1.0  0.0   \n",
       "1    2  38.0      1      0  71.2833           51              8  0.0  0.0   \n",
       "2    2  26.0      0      0   7.9250           22             16  1.0  0.0   \n",
       "3    2  35.0      1      0  53.1000           44              6  1.0  0.0   \n",
       "4    1  35.0      0      0   8.0500           24              6  1.0  0.0   \n",
       "\n",
       "   class_2  class_3  \n",
       "0      0.0      1.0  \n",
       "1      0.0      0.0  \n",
       "2      0.0      1.0  \n",
       "3      0.0      0.0  \n",
       "4      0.0      1.0  "
      ]
     },
     "execution_count": 9,
     "metadata": {},
     "output_type": "execute_result"
    }
   ],
   "source": [
    "X.head()"
   ]
  },
  {
   "cell_type": "code",
   "execution_count": 10,
   "metadata": {
    "collapsed": false
   },
   "outputs": [
    {
     "data": {
      "text/html": [
       "<div>\n",
       "<table border=\"1\" class=\"dataframe\">\n",
       "  <thead>\n",
       "    <tr style=\"text-align: right;\">\n",
       "      <th></th>\n",
       "      <th>Sex</th>\n",
       "      <th>Age</th>\n",
       "      <th>SibSp</th>\n",
       "      <th>Parch</th>\n",
       "      <th>Fare</th>\n",
       "      <th>name_length</th>\n",
       "      <th>ticket_length</th>\n",
       "      <th>S</th>\n",
       "      <th>Q</th>\n",
       "      <th>class_2</th>\n",
       "      <th>class_3</th>\n",
       "    </tr>\n",
       "  </thead>\n",
       "  <tbody>\n",
       "    <tr>\n",
       "      <th>77</th>\n",
       "      <td>1</td>\n",
       "      <td>29.699118</td>\n",
       "      <td>0</td>\n",
       "      <td>0</td>\n",
       "      <td>8.0500</td>\n",
       "      <td>24</td>\n",
       "      <td>6</td>\n",
       "      <td>1.0</td>\n",
       "      <td>0.0</td>\n",
       "      <td>0.0</td>\n",
       "      <td>1.0</td>\n",
       "    </tr>\n",
       "    <tr>\n",
       "      <th>744</th>\n",
       "      <td>1</td>\n",
       "      <td>31.000000</td>\n",
       "      <td>0</td>\n",
       "      <td>0</td>\n",
       "      <td>7.9250</td>\n",
       "      <td>18</td>\n",
       "      <td>17</td>\n",
       "      <td>1.0</td>\n",
       "      <td>0.0</td>\n",
       "      <td>0.0</td>\n",
       "      <td>1.0</td>\n",
       "    </tr>\n",
       "    <tr>\n",
       "      <th>474</th>\n",
       "      <td>2</td>\n",
       "      <td>22.000000</td>\n",
       "      <td>0</td>\n",
       "      <td>0</td>\n",
       "      <td>9.8375</td>\n",
       "      <td>27</td>\n",
       "      <td>4</td>\n",
       "      <td>1.0</td>\n",
       "      <td>0.0</td>\n",
       "      <td>0.0</td>\n",
       "      <td>1.0</td>\n",
       "    </tr>\n",
       "    <tr>\n",
       "      <th>212</th>\n",
       "      <td>1</td>\n",
       "      <td>22.000000</td>\n",
       "      <td>0</td>\n",
       "      <td>0</td>\n",
       "      <td>7.2500</td>\n",
       "      <td>22</td>\n",
       "      <td>9</td>\n",
       "      <td>1.0</td>\n",
       "      <td>0.0</td>\n",
       "      <td>0.0</td>\n",
       "      <td>1.0</td>\n",
       "    </tr>\n",
       "    <tr>\n",
       "      <th>719</th>\n",
       "      <td>1</td>\n",
       "      <td>33.000000</td>\n",
       "      <td>0</td>\n",
       "      <td>0</td>\n",
       "      <td>7.7750</td>\n",
       "      <td>28</td>\n",
       "      <td>6</td>\n",
       "      <td>1.0</td>\n",
       "      <td>0.0</td>\n",
       "      <td>0.0</td>\n",
       "      <td>1.0</td>\n",
       "    </tr>\n",
       "  </tbody>\n",
       "</table>\n",
       "</div>"
      ],
      "text/plain": [
       "     Sex        Age  SibSp  Parch    Fare  name_length  ticket_length    S  \\\n",
       "77     1  29.699118      0      0  8.0500           24              6  1.0   \n",
       "744    1  31.000000      0      0  7.9250           18             17  1.0   \n",
       "474    2  22.000000      0      0  9.8375           27              4  1.0   \n",
       "212    1  22.000000      0      0  7.2500           22              9  1.0   \n",
       "719    1  33.000000      0      0  7.7750           28              6  1.0   \n",
       "\n",
       "       Q  class_2  class_3  \n",
       "77   0.0      0.0      1.0  \n",
       "744  0.0      0.0      1.0  \n",
       "474  0.0      0.0      1.0  \n",
       "212  0.0      0.0      1.0  \n",
       "719  0.0      0.0      1.0  "
      ]
     },
     "execution_count": 10,
     "metadata": {},
     "output_type": "execute_result"
    }
   ],
   "source": [
    "X_train.head()"
   ]
  },
  {
   "cell_type": "code",
   "execution_count": 11,
   "metadata": {
    "collapsed": false
   },
   "outputs": [
    {
     "data": {
      "text/html": [
       "<div>\n",
       "<table border=\"1\" class=\"dataframe\">\n",
       "  <thead>\n",
       "    <tr style=\"text-align: right;\">\n",
       "      <th></th>\n",
       "      <th>Sex</th>\n",
       "      <th>Age</th>\n",
       "      <th>SibSp</th>\n",
       "      <th>Parch</th>\n",
       "      <th>Fare</th>\n",
       "      <th>name_length</th>\n",
       "      <th>ticket_length</th>\n",
       "      <th>S</th>\n",
       "      <th>Q</th>\n",
       "      <th>class_2</th>\n",
       "      <th>class_3</th>\n",
       "    </tr>\n",
       "  </thead>\n",
       "  <tbody>\n",
       "    <tr>\n",
       "      <th>281</th>\n",
       "      <td>1</td>\n",
       "      <td>28.0</td>\n",
       "      <td>0</td>\n",
       "      <td>0</td>\n",
       "      <td>7.8542</td>\n",
       "      <td>32</td>\n",
       "      <td>6</td>\n",
       "      <td>1.0</td>\n",
       "      <td>0.0</td>\n",
       "      <td>0.0</td>\n",
       "      <td>1.0</td>\n",
       "    </tr>\n",
       "    <tr>\n",
       "      <th>435</th>\n",
       "      <td>2</td>\n",
       "      <td>14.0</td>\n",
       "      <td>1</td>\n",
       "      <td>2</td>\n",
       "      <td>120.0000</td>\n",
       "      <td>25</td>\n",
       "      <td>6</td>\n",
       "      <td>1.0</td>\n",
       "      <td>0.0</td>\n",
       "      <td>0.0</td>\n",
       "      <td>0.0</td>\n",
       "    </tr>\n",
       "    <tr>\n",
       "      <th>39</th>\n",
       "      <td>2</td>\n",
       "      <td>14.0</td>\n",
       "      <td>1</td>\n",
       "      <td>0</td>\n",
       "      <td>11.2417</td>\n",
       "      <td>27</td>\n",
       "      <td>4</td>\n",
       "      <td>0.0</td>\n",
       "      <td>0.0</td>\n",
       "      <td>0.0</td>\n",
       "      <td>1.0</td>\n",
       "    </tr>\n",
       "    <tr>\n",
       "      <th>418</th>\n",
       "      <td>1</td>\n",
       "      <td>30.0</td>\n",
       "      <td>0</td>\n",
       "      <td>0</td>\n",
       "      <td>13.0000</td>\n",
       "      <td>26</td>\n",
       "      <td>5</td>\n",
       "      <td>1.0</td>\n",
       "      <td>0.0</td>\n",
       "      <td>1.0</td>\n",
       "      <td>0.0</td>\n",
       "    </tr>\n",
       "    <tr>\n",
       "      <th>585</th>\n",
       "      <td>2</td>\n",
       "      <td>18.0</td>\n",
       "      <td>0</td>\n",
       "      <td>2</td>\n",
       "      <td>79.6500</td>\n",
       "      <td>19</td>\n",
       "      <td>6</td>\n",
       "      <td>1.0</td>\n",
       "      <td>0.0</td>\n",
       "      <td>0.0</td>\n",
       "      <td>0.0</td>\n",
       "    </tr>\n",
       "  </tbody>\n",
       "</table>\n",
       "</div>"
      ],
      "text/plain": [
       "     Sex   Age  SibSp  Parch      Fare  name_length  ticket_length    S    Q  \\\n",
       "281    1  28.0      0      0    7.8542           32              6  1.0  0.0   \n",
       "435    2  14.0      1      2  120.0000           25              6  1.0  0.0   \n",
       "39     2  14.0      1      0   11.2417           27              4  0.0  0.0   \n",
       "418    1  30.0      0      0   13.0000           26              5  1.0  0.0   \n",
       "585    2  18.0      0      2   79.6500           19              6  1.0  0.0   \n",
       "\n",
       "     class_2  class_3  \n",
       "281      0.0      1.0  \n",
       "435      0.0      0.0  \n",
       "39       0.0      1.0  \n",
       "418      1.0      0.0  \n",
       "585      0.0      0.0  "
      ]
     },
     "execution_count": 11,
     "metadata": {},
     "output_type": "execute_result"
    }
   ],
   "source": [
    "X_val.head()"
   ]
  },
  {
   "cell_type": "markdown",
   "metadata": {},
   "source": [
    "## Preprocess so that all will have same scale"
   ]
  },
  {
   "cell_type": "code",
   "execution_count": 12,
   "metadata": {
    "collapsed": false
   },
   "outputs": [],
   "source": [
    "# Feature Scaling\n",
    "from sklearn.preprocessing import StandardScaler\n",
    "sc = StandardScaler()\n",
    "X_train = sc.fit_transform(X_train)\n",
    "X_val = sc.transform(X_val)\n",
    "X_test = sc.transform(X_test)\n",
    "X = sc.transform(X)"
   ]
  },
  {
   "cell_type": "code",
   "execution_count": 13,
   "metadata": {
    "collapsed": false
   },
   "outputs": [
    {
     "name": "stdout",
     "output_type": "stream",
     "text": [
      "(889, 11)\n",
      "(889, 1)\n",
      "(800, 11)\n",
      "(89, 11)\n",
      "(418, 11)\n"
     ]
    }
   ],
   "source": [
    "print(X.shape)\n",
    "print(Y.shape)\n",
    "\n",
    "print(X_train.shape)\n",
    "print(X_val.shape)\n",
    "print(X_test.shape)"
   ]
  },
  {
   "cell_type": "markdown",
   "metadata": {},
   "source": [
    "## Training"
   ]
  },
  {
   "cell_type": "code",
   "execution_count": 73,
   "metadata": {
    "collapsed": false
   },
   "outputs": [],
   "source": [
    "# Parameters\n",
    "learning_rate = 0.0001\n",
    "training_epochs = 1500\n",
    "batch_size = 500\n",
    "display_step = 10\n",
    "\n",
    "# Network Parameters\n",
    "n_hidden_1 = 1024 # 1st layer number of features\n",
    "n_hidden_2 = 1024-128 # 2nd layer number of features\n",
    "n_hidden_3 = 1024-256\n",
    "n_hidden_4 = 512\n",
    "alpha = 0.05\n",
    "n_input = X.shape[1] # MNIST data input (img shape: 28*28)\n",
    "n_classes = Y.shape[1] # MNIST total classes (0-9 digits)\n",
    "keep_prob = 0.8"
   ]
  },
  {
   "cell_type": "code",
   "execution_count": 74,
   "metadata": {
    "collapsed": false
   },
   "outputs": [],
   "source": [
    "# tf Graph input\n",
    "x = tf.placeholder(\"float\", [None, n_input])\n",
    "y = tf.placeholder(\"float\", [None, n_classes])\n",
    "training = tf.placeholder(tf.bool)\n",
    "\"\"\"\n",
    "z1 = tf.layers.dense(x, n_hidden_1, activation=tf.nn.relu)\n",
    "\n",
    "z2 = tf.layers.dense(z1, n_hidden_2, activation=tf.nn.relu)\n",
    "z3 = tf.layers.dense(z2, n_hidden_3, activation=tf.nn.relu)\n",
    "logits = tf.layers.dense(z3, 1, activation=tf.nn.sigmoid)\n",
    "\"\"\"\n",
    "\n",
    "def myDense(i,row,col):\n",
    "    w = tf.Variable(tf.random_normal([row,col]))\n",
    "    b = tf.Variable(tf.zeros([col]))\n",
    "    a = tf.matmul(i,w)+b\n",
    "    z = tf.nn.relu(a)\n",
    "    if(training is not None): z = tf.nn.dropout(z, keep_prob)\n",
    "    else: z *=keep_prob\n",
    "    return z\n",
    "\"\"\" The same as-->\n",
    "#Hidden Layer 1\n",
    "w1 = tf.Variable(tf.random_normal([n_input,n_hidden_1]))\n",
    "b1 = tf.Variable(tf.zeros([n_hidden_1]))\n",
    "a1 = tf.matmul(x,w1)+b1\n",
    "z1 = tf.nn.relu(a1)\n",
    "if(training is not None): z1 = tf.nn.dropout(z1, keep_prob)\n",
    "else: z1 *=keep_prob\n",
    "#Hidden layer 2\n",
    "w2 = tf.Variable(tf.random_normal([n_hidden_1,n_hidden_2]))\n",
    "b2 = tf.Variable(tf.zeros([n_hidden_2]))\n",
    "a2 = tf.matmul(z1,w2)+b2\n",
    "z2 = tf.nn.relu(a2)\n",
    "if(training is not None): z2 = tf.nn.dropout(z2, keep_prob)\n",
    "else: z2 *=keep_prob\n",
    "#Hidden layer 3\n",
    "w3 = tf.Variable(tf.random_normal([n_hidden_2,n_hidden_3]))\n",
    "b3 = tf.Variable(tf.zeros([n_hidden_3]))\n",
    "a3 = tf.matmul(z2,w3)+b3\n",
    "z3 = tf.nn.relu(a3)\n",
    "if(training is not None): z3 = tf.nn.dropout(z3, keep_prob)\n",
    "else: z3 *=keep_prob\n",
    "#Hidden layer 4\n",
    "w4 = tf.Variable(tf.random_normal([n_hidden_3,n_hidden_4]))\n",
    "b4 = tf.Variable(tf.zeros([n_hidden_4]))\n",
    "a4 = tf.matmul(z3,w4)+b4\n",
    "z4 = tf.nn.relu(a4)\n",
    "if(training is not None): z4 = tf.nn.dropout(z4, keep_prob)\n",
    "else: z4 *=keep_prob\n",
    "#Output layer\n",
    "w5 = tf.Variable(tf.random_normal([n_hidden_4,n_classes]))\n",
    "b5 = tf.Variable(tf.zeros([n_classes]))\n",
    "a5 = tf.matmul(z4,w5)+b5\n",
    "logits = a5#tf.nn.sigmoid(a4)  # No sigmoid is better because cross entropy already use sigmoid in the cost. So if sigmoid here-> sigmoid 2 times.\n",
    "\"\"\"\n",
    "z1 = myDense(x,n_input,n_hidden_1)\n",
    "z2 = myDense(z1,n_hidden_1,n_hidden_2)\n",
    "z3 = myDense(z2,n_hidden_2,n_hidden_3)\n",
    "z4 = myDense(z3,n_hidden_3,n_hidden_4)\n",
    "w5 = tf.Variable(tf.random_normal([n_hidden_4,n_classes]))\n",
    "b5 = tf.Variable(tf.zeros([n_classes]))\n",
    "a5 = tf.matmul(z4,w5)+b5\n",
    "logits = a5\n",
    "\n",
    "cross_entropy = tf.nn.sigmoid_cross_entropy_with_logits(labels=y, logits=logits)\n",
    "cost = tf.reduce_mean(cross_entropy) + alpha*tf.nn.l2_loss(w1) + alpha*tf.nn.l2_loss(w2)+ alpha*tf.nn.l2_loss(w3)+ alpha*tf.nn.l2_loss(w4)\n",
    "\n",
    "optimizer = tf.train.AdamOptimizer(learning_rate).minimize(cost)\n",
    "\n",
    "#Because we did not use sigmoid on output, we will use it here\n",
    "activated_output = tf.nn.sigmoid(logits)\n",
    "predicted_class = tf.greater(activated_output,0.5)\n",
    "correct = tf.equal(predicted_class, tf.equal(y,1))\n",
    "accuracy = tf.reduce_mean( tf.cast(correct, 'float') )"
   ]
  },
  {
   "cell_type": "code",
   "execution_count": 72,
   "metadata": {
    "collapsed": false
   },
   "outputs": [
    {
     "data": {
      "image/png": "[encoded data removed]",
      "text/plain": [
       "<matplotlib.figure.Figure at 0x228c5754780>"
      ]
     },
     "metadata": {},
     "output_type": "display_data"
    }
   ],
   "source": [
    "def plot_accuracy():\n",
    "    \n",
    "    fig,ax = plt.subplots(1,2,figsize=(15,5))\n",
    "    \n",
    "    \n",
    "    ax[0].plot(epoch_set,train_acc_set, '-',label='Training set accuracy')\n",
    "    ax[0].plot(epoch_set,val_acc_set, '-',label='Testing set accuracy')\n",
    "    ax[0].set_ylabel('accuracy')\n",
    "    ax[0].set_xlabel('epoch')\n",
    "    ax[0].set_ylim((0,1))\n",
    "    ax[0].set_xlim((0,training_epochs))\n",
    "    ax[0].legend(loc=4)\n",
    "    \n",
    "    ax[1].plot(epoch_set,avg_set, '-',label='Cost')\n",
    "    ax[1].set_ylabel('cost')\n",
    "    ax[1].set_xlabel('epoch')\n",
    "    #plt.ylim((0,1))\n",
    "    ax[1].set_xlim((0,training_epochs))\n",
    "    ax[1].legend()\n",
    "    plt.show()"
   ]
  },
  {
   "cell_type": "code",
   "execution_count": 75,
   "metadata": {
    "collapsed": false
   },
   "outputs": [
    {
     "name": "stdout",
     "output_type": "stream",
     "text": [
      "Epoch: 1491\n",
      "cost = 74692.789062\n",
      "Accuracy: 0.784000\n",
      "Accuracy(val): 0.752809\n",
      "Counter({0.0: 49, 1.0: 40})\n"
     ]
    },
    {
     "data": {
      "image/png": "[encoded data removed]",
      "text/plain": [
       "<matplotlib.figure.Figure at 0x228e1ce1d68>"
      ]
     },
     "metadata": {},
     "output_type": "display_data"
    },
    {
     "name": "stdout",
     "output_type": "stream",
     "text": [
      " Training phase finished\n",
      "MODEL accuracy: 0.785152\n",
      "MODEL(train) accuracy: 0.7975\n",
      "MODEL(val) accuracy: 0.741573\n"
     ]
    }
   ],
   "source": [
    "avg_set = []\n",
    "train_acc_set = []\n",
    "val_acc_set = []\n",
    "epoch_set=[]\n",
    "\n",
    "\n",
    "init = tf.global_variables_initializer()\n",
    "with tf.Session() as sess:\n",
    "    sess.run(init)\n",
    "    for epoch in range(training_epochs):\n",
    "        avg_cost = 0\n",
    "        avg_acc = 0\n",
    "        val_avg_acc = 0\n",
    "        total_batch = int(X_train.shape[0]/batch_size)\n",
    "        for i in range(total_batch):\n",
    "            selectedSamples  = random.sample(list(np.arange(X_train.shape[0])),batch_size)\n",
    "\n",
    "            batch_xs, batch_ys = X_train[selectedSamples],y_train[selectedSamples]\n",
    "            sess.run(optimizer, feed_dict={x: batch_xs, y: batch_ys,training:True})\n",
    "            loss = sess.run(cost, feed_dict={x: batch_xs,y: batch_ys,training:True})/total_batch\n",
    "            avg_cost+=(loss/total_batch)\n",
    "            #Get accuracy of this batch\n",
    "            acc = sess.run(accuracy,feed_dict={x:batch_xs,y:batch_ys,training:True})/total_batch\n",
    "            avg_acc+=acc\n",
    "            #Get accuracy from validation set using this batch weights\n",
    "            valacc = accuracy.eval({x:X_val,y:y_val})/total_batch#sess.run(accuracy,feed_dict={x:X_val,y:y_val})/total_batch\n",
    "            val_avg_acc+=valacc\n",
    "        if epoch % display_step == 0:\n",
    "            clear_output()\n",
    "            print(\"Epoch:\",'%04d' % (epoch+1))\n",
    "            print(\"cost = %f\"%avg_cost)\n",
    "            print(\"Accuracy: %f\"%avg_acc)\n",
    "            print(\"Accuracy(val): %f\"%val_avg_acc)\n",
    "            avg_set.append(avg_cost)\n",
    "            train_acc_set.append(avg_acc)\n",
    "            val_acc_set.append(val_avg_acc)\n",
    "            epoch_set.append(epoch)\n",
    "            pred = activated_output.eval({x:X_val,y:y_val})\n",
    "            print(Counter([list(i)[0] for i in list(pred)]))\n",
    "\n",
    "            plot_accuracy()\n",
    "\n",
    "    print(\" Training phase finished\")\n",
    "    print(\"MODEL accuracy:\", accuracy.eval({x: X,y:Y}))\n",
    "    print(\"MODEL(train) accuracy:\", accuracy.eval({x: X_train,y:y_train}))\n",
    "    print(\"MODEL(val) accuracy:\", accuracy.eval({x: X_val,y:y_val}))\n",
    "    pred = predicted_class.eval(feed_dict={x:X_test})"
   ]
  },
  {
   "cell_type": "code",
   "execution_count": 66,
   "metadata": {
    "collapsed": false
   },
   "outputs": [
    {
     "data": {
      "text/plain": [
       "Counter({False: 228, True: 190})"
      ]
     },
     "execution_count": 66,
     "metadata": {},
     "output_type": "execute_result"
    }
   ],
   "source": [
    "Counter([list(i)[0] for i in list(pred)])"
   ]
  },
  {
   "cell_type": "code",
   "execution_count": 67,
   "metadata": {
    "collapsed": true
   },
   "outputs": [],
   "source": [
    "test_df_reload = pd.read_csv('test.csv')"
   ]
  },
  {
   "cell_type": "code",
   "execution_count": 68,
   "metadata": {
    "collapsed": false
   },
   "outputs": [],
   "source": [
    "prediction2 = pred.astype(int).ravel()\n",
    "d = {'PassengerId':test_df_reload['PassengerId'].values,'Survived':prediction2}\n",
    "ans_df = pd.DataFrame(d)\n",
    "ans_df.to_csv(\"titanic_deep_tf4.csv\",index=False)"
   ]
  },
  {
   "cell_type": "code",
   "execution_count": null,
   "metadata": {
    "collapsed": false
   },
   "outputs": [],
   "source": [
    "ans_df"
   ]
  }
 ],
 "metadata": {
  "anaconda-cloud": {},
  "kernelspec": {
   "display_name": "Python [conda root]",
   "language": "python",
   "name": "conda-root-py"
  },
  "language_info": {
   "codemirror_mode": {
    "name": "ipython",
    "version": 3
   },
   "file_extension": ".py",
   "mimetype": "text/x-python",
   "name": "python",
   "nbconvert_exporter": "python",
   "pygments_lexer": "ipython3",
   "version": "3.5.2"
  }
 },
 "nbformat": 4,
 "nbformat_minor": 2
}
